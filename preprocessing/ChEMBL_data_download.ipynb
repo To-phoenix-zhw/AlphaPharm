{
 "cells": [
  {
   "cell_type": "code",
   "execution_count": 1,
   "id": "e8262023",
   "metadata": {},
   "outputs": [],
   "source": [
    "import os"
   ]
  },
  {
   "cell_type": "code",
   "execution_count": 2,
   "id": "8349cd9b",
   "metadata": {},
   "outputs": [
    {
     "name": "stdout",
     "output_type": "stream",
     "text": [
      "['activity', 'activity_supplementary_data_by_activity', 'assay', 'assay_class', 'atc_class', 'binding_site', 'biotherapeutic', 'cell_line', 'chembl_id_lookup', 'compound_record', 'compound_structural_alert', 'description', 'document', 'document_similarity', 'drug', 'drug_indication', 'drug_warning', 'go_slim', 'image', 'mechanism', 'metabolism', 'molecule', 'molecule_form', 'official', 'organism', 'protein_classification', 'similarity', 'source', 'substructure', 'target', 'target_component', 'target_relation', 'tissue', 'xref_source']\n"
     ]
    }
   ],
   "source": [
    "from chembl_webresource_client.new_client import new_client\n",
    "available_resources = [resource for resource in dir(new_client) if not resource.startswith('_')]\n",
    "print(available_resources)"
   ]
  },
  {
   "cell_type": "code",
   "execution_count": 3,
   "id": "7ddd6946",
   "metadata": {},
   "outputs": [],
   "source": [
    "target_client = new_client.target\n",
    "activity_client = new_client.activity"
   ]
  },
  {
   "cell_type": "code",
   "execution_count": 4,
   "id": "ce17f4f7",
   "metadata": {},
   "outputs": [
    {
     "data": {
      "text/plain": [
       "(15139,\n",
       " dict_keys(['cross_references', 'organism', 'pref_name', 'species_group_flag', 'target_chembl_id', 'target_components', 'target_type', 'tax_id']))"
      ]
     },
     "execution_count": 4,
     "metadata": {},
     "output_type": "execute_result"
    }
   ],
   "source": [
    "len(target_client), target_client[0].keys()"
   ]
  },
  {
   "cell_type": "code",
   "execution_count": 5,
   "id": "74db6a65",
   "metadata": {},
   "outputs": [
    {
     "data": {
      "text/plain": [
       "{'cross_references': [{'xref_id': 'O43451',\n",
       "   'xref_name': None,\n",
       "   'xref_src': 'canSAR-Target'},\n",
       "  {'xref_id': 'Maltase-glucoamylase',\n",
       "   'xref_name': None,\n",
       "   'xref_src': 'Wikipedia'}],\n",
       " 'organism': 'Homo sapiens',\n",
       " 'pref_name': 'Maltase-glucoamylase',\n",
       " 'species_group_flag': False,\n",
       " 'target_chembl_id': 'CHEMBL2074',\n",
       " 'target_components': [{'accession': 'O43451',\n",
       "   'component_description': 'Maltase-glucoamylase',\n",
       "   'component_id': 434,\n",
       "   'component_type': 'PROTEIN',\n",
       "   'relationship': 'SINGLE PROTEIN',\n",
       "   'target_component_synonyms': [{'component_synonym': '3.2.1.20',\n",
       "     'syn_type': 'EC_NUMBER'},\n",
       "    {'component_synonym': 'Alpha-1,4-glucosidase', 'syn_type': 'UNIPROT'},\n",
       "    {'component_synonym': 'Maltase-glucoamylase', 'syn_type': 'UNIPROT'},\n",
       "    {'component_synonym': 'MGA', 'syn_type': 'GENE_SYMBOL_OTHER'},\n",
       "    {'component_synonym': 'MGAM', 'syn_type': 'GENE_SYMBOL'},\n",
       "    {'component_synonym': 'MGAML', 'syn_type': 'GENE_SYMBOL_OTHER'},\n",
       "    {'component_synonym': 'Synonyms=MGA', 'syn_type': 'GENE_SYMBOL_OTHER'}],\n",
       "   'target_component_xrefs': [{'xref_id': 'O43451',\n",
       "     'xref_name': None,\n",
       "     'xref_src_db': 'ExpressionAtlas'},\n",
       "    {'xref_id': 'GO:0005886',\n",
       "     'xref_name': 'plasma membrane',\n",
       "     'xref_src_db': 'GoComponent'},\n",
       "    {'xref_id': 'GO:0016020',\n",
       "     'xref_name': 'membrane',\n",
       "     'xref_src_db': 'GoComponent'},\n",
       "    {'xref_id': 'GO:0016324',\n",
       "     'xref_name': 'apical plasma membrane',\n",
       "     'xref_src_db': 'GoComponent'},\n",
       "    {'xref_id': 'GO:0070062',\n",
       "     'xref_name': 'extracellular exosome',\n",
       "     'xref_src_db': 'GoComponent'},\n",
       "    {'xref_id': 'GO:0070821',\n",
       "     'xref_name': 'tertiary granule membrane',\n",
       "     'xref_src_db': 'GoComponent'},\n",
       "    {'xref_id': 'GO:0101003',\n",
       "     'xref_name': 'ficolin-1-rich granule membrane',\n",
       "     'xref_src_db': 'GoComponent'},\n",
       "    {'xref_id': 'GO:0110165',\n",
       "     'xref_name': 'cellular anatomical entity',\n",
       "     'xref_src_db': 'GoComponent'},\n",
       "    {'xref_id': 'GO:0003824',\n",
       "     'xref_name': 'catalytic activity',\n",
       "     'xref_src_db': 'GoFunction'},\n",
       "    {'xref_id': 'GO:0004339',\n",
       "     'xref_name': 'glucan 1,4-alpha-glucosidase activity',\n",
       "     'xref_src_db': 'GoFunction'},\n",
       "    {'xref_id': 'GO:0004553',\n",
       "     'xref_name': 'hydrolase activity, hydrolyzing O-glycosyl compounds',\n",
       "     'xref_src_db': 'GoFunction'},\n",
       "    {'xref_id': 'GO:0004558',\n",
       "     'xref_name': 'alpha-1,4-glucosidase activity',\n",
       "     'xref_src_db': 'GoFunction'},\n",
       "    {'xref_id': 'GO:0005515',\n",
       "     'xref_name': 'protein binding',\n",
       "     'xref_src_db': 'GoFunction'},\n",
       "    {'xref_id': 'GO:0016160',\n",
       "     'xref_name': 'amylase activity',\n",
       "     'xref_src_db': 'GoFunction'},\n",
       "    {'xref_id': 'GO:0016787',\n",
       "     'xref_name': 'hydrolase activity',\n",
       "     'xref_src_db': 'GoFunction'},\n",
       "    {'xref_id': 'GO:0016798',\n",
       "     'xref_name': 'hydrolase activity, acting on glycosyl bonds',\n",
       "     'xref_src_db': 'GoFunction'},\n",
       "    {'xref_id': 'GO:0030246',\n",
       "     'xref_name': 'carbohydrate binding',\n",
       "     'xref_src_db': 'GoFunction'},\n",
       "    {'xref_id': 'GO:0032450',\n",
       "     'xref_name': 'maltose alpha-glucosidase activity',\n",
       "     'xref_src_db': 'GoFunction'},\n",
       "    {'xref_id': 'GO:0090599',\n",
       "     'xref_name': 'alpha-glucosidase activity',\n",
       "     'xref_src_db': 'GoFunction'},\n",
       "    {'xref_id': 'GO:0000025',\n",
       "     'xref_name': 'maltose catabolic process',\n",
       "     'xref_src_db': 'GoProcess'},\n",
       "    {'xref_id': 'GO:0005975',\n",
       "     'xref_name': 'carbohydrate metabolic process',\n",
       "     'xref_src_db': 'GoProcess'},\n",
       "    {'xref_id': 'GO:0005983',\n",
       "     'xref_name': 'starch catabolic process',\n",
       "     'xref_src_db': 'GoProcess'},\n",
       "    {'xref_id': 'GO:0008152',\n",
       "     'xref_name': 'metabolic process',\n",
       "     'xref_src_db': 'GoProcess'},\n",
       "    {'xref_id': 'GO:1901027',\n",
       "     'xref_name': 'dextrin catabolic process',\n",
       "     'xref_src_db': 'GoProcess'},\n",
       "    {'xref_id': '2627',\n",
       "     'xref_name': None,\n",
       "     'xref_src_db': 'GuideToPHARMACOLOGY'},\n",
       "    {'xref_id': 'O43451', 'xref_name': None, 'xref_src_db': 'IntAct'},\n",
       "    {'xref_id': 'IPR000322',\n",
       "     'xref_name': 'Glyco_hydro_31.',\n",
       "     'xref_src_db': 'InterPro'},\n",
       "    {'xref_id': 'IPR000519',\n",
       "     'xref_name': 'P_trefoil_dom.',\n",
       "     'xref_src_db': 'InterPro'},\n",
       "    {'xref_id': 'IPR011013',\n",
       "     'xref_name': 'Gal_mutarotase_sf_dom.',\n",
       "     'xref_src_db': 'InterPro'},\n",
       "    {'xref_id': 'IPR013780',\n",
       "     'xref_name': 'Glyco_hydro_b.',\n",
       "     'xref_src_db': 'InterPro'},\n",
       "    {'xref_id': 'IPR017853',\n",
       "     'xref_name': 'Glycoside_hydrolase_SF.',\n",
       "     'xref_src_db': 'InterPro'},\n",
       "    {'xref_id': 'IPR017957',\n",
       "     'xref_name': 'P_trefoil_CS.',\n",
       "     'xref_src_db': 'InterPro'},\n",
       "    {'xref_id': 'IPR030458',\n",
       "     'xref_name': 'Glyco_hydro_31_AS.',\n",
       "     'xref_src_db': 'InterPro'},\n",
       "    {'xref_id': 'IPR030459',\n",
       "     'xref_name': 'Glyco_hydro_31_CS.',\n",
       "     'xref_src_db': 'InterPro'},\n",
       "    {'xref_id': 'IPR031727',\n",
       "     'xref_name': 'Gal_mutarotase_N.',\n",
       "     'xref_src_db': 'InterPro'},\n",
       "    {'xref_id': 'IPR044913',\n",
       "     'xref_name': 'P_trefoil_dom_sf.',\n",
       "     'xref_src_db': 'InterPro'},\n",
       "    {'xref_id': '2QLY', 'xref_name': 'A', 'xref_src_db': 'PDBe'},\n",
       "    {'xref_id': '2QMJ', 'xref_name': 'A', 'xref_src_db': 'PDBe'},\n",
       "    {'xref_id': '3CTT', 'xref_name': 'A', 'xref_src_db': 'PDBe'},\n",
       "    {'xref_id': '3L4T', 'xref_name': 'A', 'xref_src_db': 'PDBe'},\n",
       "    {'xref_id': '3L4U', 'xref_name': 'A', 'xref_src_db': 'PDBe'},\n",
       "    {'xref_id': '3L4V', 'xref_name': 'A', 'xref_src_db': 'PDBe'},\n",
       "    {'xref_id': '3L4W', 'xref_name': 'A', 'xref_src_db': 'PDBe'},\n",
       "    {'xref_id': '3L4X', 'xref_name': 'A', 'xref_src_db': 'PDBe'},\n",
       "    {'xref_id': '3L4Y', 'xref_name': 'A', 'xref_src_db': 'PDBe'},\n",
       "    {'xref_id': '3L4Z', 'xref_name': 'A', 'xref_src_db': 'PDBe'},\n",
       "    {'xref_id': '3TON', 'xref_name': 'A', 'xref_src_db': 'PDBe'},\n",
       "    {'xref_id': '3TOP', 'xref_name': 'A', 'xref_src_db': 'PDBe'},\n",
       "    {'xref_id': 'PF00088', 'xref_name': 'Trefoil', 'xref_src_db': 'Pfam'},\n",
       "    {'xref_id': 'PF01055',\n",
       "     'xref_name': 'Glyco_hydro_31',\n",
       "     'xref_src_db': 'Pfam'},\n",
       "    {'xref_id': 'PF16863', 'xref_name': 'NtCtMGAM_N', 'xref_src_db': 'Pfam'},\n",
       "    {'xref_id': 'PA30778',\n",
       "     'xref_name': 'maltase-glucoamylase (alpha-glucosidase)',\n",
       "     'xref_src_db': 'PharmGKB'},\n",
       "    {'xref_id': 'O43451', 'xref_name': 'Tclin', 'xref_src_db': 'Pharos'},\n",
       "    {'xref_id': 'R-HSA-189085',\n",
       "     'xref_name': 'Digestion of dietary carbohydrate.',\n",
       "     'xref_src_db': 'Reactome'},\n",
       "    {'xref_id': 'R-HSA-6798695',\n",
       "     'xref_name': 'Neutrophil degranulation.',\n",
       "     'xref_src_db': 'Reactome'},\n",
       "    {'xref_id': 'E7ER45', 'xref_name': None, 'xref_src_db': 'UniProt'},\n",
       "    {'xref_id': 'O43451', 'xref_name': None, 'xref_src_db': 'UniProt'},\n",
       "    {'xref_id': 'Q0VAX6', 'xref_name': None, 'xref_src_db': 'UniProt'},\n",
       "    {'xref_id': 'Q75ME7', 'xref_name': None, 'xref_src_db': 'UniProt'},\n",
       "    {'xref_id': 'Q86UM5', 'xref_name': None, 'xref_src_db': 'UniProt'}]}],\n",
       " 'target_type': 'SINGLE PROTEIN',\n",
       " 'tax_id': 9606}"
      ]
     },
     "execution_count": 5,
     "metadata": {},
     "output_type": "execute_result"
    }
   ],
   "source": [
    "target_client[0]"
   ]
  },
  {
   "cell_type": "code",
   "execution_count": 8,
   "id": "4e5b96b5",
   "metadata": {},
   "outputs": [],
   "source": [
    "# Targets file\n",
    "file_root = \"./preprocessing/targets/\"\n",
    "target_ceartain_path = \"Targets_HumanVoltage.csv\"\n",
    "target_certain_file_path = file_root + target_ceartain_path "
   ]
  },
  {
   "cell_type": "code",
   "execution_count": 9,
   "id": "eb567725",
   "metadata": {},
   "outputs": [],
   "source": [
    "import pandas as pd\n",
    "target_certain = pd.read_csv(target_certain_file_path, sep=',')"
   ]
  },
  {
   "cell_type": "code",
   "execution_count": 10,
   "id": "9119e9c0",
   "metadata": {},
   "outputs": [
    {
     "data": {
      "text/plain": [
       "'CHEMBL1075319'"
      ]
     },
     "execution_count": 10,
     "metadata": {},
     "output_type": "execute_result"
    }
   ],
   "source": [
    "target_certain[\"ChEMBL ID\"].iloc[0]"
   ]
  },
  {
   "cell_type": "code",
   "execution_count": 11,
   "id": "a8a5700b",
   "metadata": {
    "scrolled": false
   },
   "outputs": [
    {
     "data": {
      "text/plain": [
       "dict_keys(['activity_comment', 'activity_id', 'activity_properties', 'assay_chembl_id', 'assay_description', 'assay_type', 'assay_variant_accession', 'assay_variant_mutation', 'bao_endpoint', 'bao_format', 'bao_label', 'canonical_smiles', 'data_validity_comment', 'data_validity_description', 'document_chembl_id', 'document_journal', 'document_year', 'ligand_efficiency', 'molecule_chembl_id', 'molecule_pref_name', 'parent_molecule_chembl_id', 'pchembl_value', 'potential_duplicate', 'qudt_units', 'record_id', 'relation', 'src_id', 'standard_flag', 'standard_relation', 'standard_text_value', 'standard_type', 'standard_units', 'standard_upper_value', 'standard_value', 'target_chembl_id', 'target_organism', 'target_pref_name', 'target_tax_id', 'text_value', 'toid', 'type', 'units', 'uo_units', 'upper_value', 'value'])"
      ]
     },
     "execution_count": 11,
     "metadata": {},
     "output_type": "execute_result"
    }
   ],
   "source": [
    "activity_client[0].keys()"
   ]
  },
  {
   "cell_type": "code",
   "execution_count": 17,
   "id": "f65df3b7",
   "metadata": {},
   "outputs": [],
   "source": [
    "save_dir = \"Targets_HumanVoltage/\""
   ]
  },
  {
   "cell_type": "code",
   "execution_count": 18,
   "id": "418111d6",
   "metadata": {},
   "outputs": [],
   "source": [
    "save_path = file_root + save_dir "
   ]
  },
  {
   "cell_type": "code",
   "execution_count": 21,
   "id": "4aedf88e",
   "metadata": {},
   "outputs": [],
   "source": [
    "def mksure_path(dirs_or_files):\n",
    "    if not os.path.exists(dirs_or_files):\n",
    "        os.makedirs(dirs_or_files)"
   ]
  },
  {
   "cell_type": "code",
   "execution_count": 24,
   "id": "87668d82",
   "metadata": {},
   "outputs": [],
   "source": [
    "mksure_path(save_path)"
   ]
  },
  {
   "cell_type": "code",
   "execution_count": 48,
   "id": "6016a7ca",
   "metadata": {},
   "outputs": [],
   "source": [
    "def attain_data(target, stype, sunits, assay_type):\n",
    "    data = activity_client.filter(target_chembl_id=target).filter(\n",
    "        standard_type=stype,   # e.g. IC50\n",
    "        standard_relation=\"=\",\n",
    "        standard_units=sunits,  # e.g. nM\n",
    "        assay_type=assay_type,  # e.g. B\n",
    "        data_validity_comment=None,\n",
    "    ) \n",
    "    return data"
   ]
  },
  {
   "cell_type": "code",
   "execution_count": 13,
   "id": "969ad49c",
   "metadata": {},
   "outputs": [
    {
     "data": {
      "text/plain": [
       "'CHEMBL1075319'"
      ]
     },
     "execution_count": 13,
     "metadata": {},
     "output_type": "execute_result"
    }
   ],
   "source": [
    "target_certain[\"ChEMBL ID\"].iloc[0]"
   ]
  },
  {
   "cell_type": "code",
   "execution_count": 49,
   "id": "f898d6ac",
   "metadata": {},
   "outputs": [],
   "source": [
    "temp = attain_data(target_certain[\"ChEMBL ID\"].iloc[0], \"IC50\", \"nM\", \"B\")"
   ]
  },
  {
   "cell_type": "code",
   "execution_count": 38,
   "id": "8d8e087f",
   "metadata": {},
   "outputs": [
    {
     "data": {
      "text/plain": [
       "'B'"
      ]
     },
     "execution_count": 38,
     "metadata": {},
     "output_type": "execute_result"
    }
   ],
   "source": [
    "temp[0][\"assay_type\"]"
   ]
  },
  {
   "cell_type": "code",
   "execution_count": 35,
   "id": "7203cb52",
   "metadata": {},
   "outputs": [
    {
     "name": "stdout",
     "output_type": "stream",
     "text": [
      "1\n"
     ]
    }
   ],
   "source": [
    "if temp[0][\"data_validity_comment\"] is None:\n",
    "    print(1)"
   ]
  },
  {
   "cell_type": "code",
   "execution_count": 44,
   "id": "80ccd480",
   "metadata": {},
   "outputs": [
    {
     "data": {
      "text/plain": [
       "463"
      ]
     },
     "execution_count": 44,
     "metadata": {},
     "output_type": "execute_result"
    }
   ],
   "source": [
    "len(temp)"
   ]
  },
  {
   "cell_type": "code",
   "execution_count": 50,
   "id": "18cdbcbc",
   "metadata": {},
   "outputs": [],
   "source": [
    "for idx, tmp in enumerate(temp):\n",
    "    if tmp[\"data_validity_comment\"] is not None:\n",
    "        print(idx, tmp)"
   ]
  },
  {
   "cell_type": "code",
   "execution_count": 51,
   "id": "abf52848",
   "metadata": {},
   "outputs": [
    {
     "data": {
      "text/plain": [
       "462"
      ]
     },
     "execution_count": 51,
     "metadata": {},
     "output_type": "execute_result"
    }
   ],
   "source": [
    "len(attain_data(target_certain[\"ChEMBL ID\"].iloc[0], \"IC50\", \"nM\", \"B\"))"
   ]
  },
  {
   "cell_type": "code",
   "execution_count": 34,
   "id": "c0b661c2",
   "metadata": {},
   "outputs": [],
   "source": [
    "cnt = 0\n",
    "for i in range(len(target_certain)):\n",
    "    ic50_data = attain_data(target_certain[\"ChEMBL ID\"].iloc[i], \"IC50\", \"nM\")\n",
    "    if len(ic50_data) < 100:\n",
    "        continue\n",
    "    cnt += 1\n",
    "    ic50_dataframe = pd.DataFrame.from_dict(ic50_data)\n",
    "    ic50_dataframe.to_csv(save_path + \"ic50_target\" + str(cnt) + \".csv\", index=False)\n",
    "\n",
    "    break"
   ]
  },
  {
   "cell_type": "code",
   "execution_count": 10,
   "id": "232bef92",
   "metadata": {},
   "outputs": [],
   "source": [
    "# # IC50\n",
    "# ic50_target1 = activity_client.filter(target_chembl_id=target_certain[\"ChEMBL ID\"].iloc[0]).filter(\n",
    "#     standard_type=\"IC50\", \n",
    "#     standard_relation=\"=\",\n",
    "#     standard_units=\"nM\",\n",
    "# )"
   ]
  },
  {
   "cell_type": "code",
   "execution_count": 11,
   "id": "39471a09",
   "metadata": {},
   "outputs": [
    {
     "data": {
      "text/plain": [
       "486"
      ]
     },
     "execution_count": 11,
     "metadata": {},
     "output_type": "execute_result"
    }
   ],
   "source": [
    "# len(ic50_target1)"
   ]
  },
  {
   "cell_type": "code",
   "execution_count": 12,
   "id": "c300b30f",
   "metadata": {},
   "outputs": [],
   "source": [
    "# ic50_target1_dataframe = pd.DataFrame.from_dict(ic50_target1)"
   ]
  },
  {
   "cell_type": "code",
   "execution_count": 14,
   "id": "56877174",
   "metadata": {},
   "outputs": [],
   "source": [
    "# ic50_target1_dataframe.to_csv(save_path + \"ic50_target\" + str(i) + \".csv\", index=False)"
   ]
  },
  {
   "cell_type": "code",
   "execution_count": null,
   "id": "0e3dcf37",
   "metadata": {},
   "outputs": [],
   "source": [
    "# # traverse targets and bioactivities\n",
    "# herg_activities = activity.filter(target_chembl_id=herg['target_chembl_id']).filter(standard_type=\"IC50\")"
   ]
  }
 ],
 "metadata": {
  "kernelspec": {
   "display_name": "Python [conda env:molnet] *",
   "language": "python",
   "name": "conda-env-molnet-py"
  },
  "language_info": {
   "codemirror_mode": {
    "name": "ipython",
    "version": 3
   },
   "file_extension": ".py",
   "mimetype": "text/x-python",
   "name": "python",
   "nbconvert_exporter": "python",
   "pygments_lexer": "ipython3",
   "version": "3.7.13"
  }
 },
 "nbformat": 4,
 "nbformat_minor": 5
}
